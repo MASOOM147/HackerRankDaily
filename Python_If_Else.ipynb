{
  "nbformat": 4,
  "nbformat_minor": 0,
  "metadata": {
    "colab": {
      "provenance": []
    },
    "kernelspec": {
      "name": "python3",
      "display_name": "Python 3"
    },
    "language_info": {
      "name": "python"
    }
  },
  "cells": [
    {
      "cell_type": "markdown",
      "source": [
        "# Python If-Else\n",
        "# Given an integer, n, perform the following conditional actions:\n",
        "==>If n is odd, print Weird\n",
        "==>If n is even and in the inclusive range of 2 to 5, print Not Weird\n",
        "==>If n is even and in the inclusive range of 6 to 20, print Weird\n",
        "==>If n is even and greater than 20, print Not Weird\n",
        "\n",
        "## Input Format\n",
        "A single line containing a positive integer, n.\n",
        "\n",
        "Constraints\n",
        "1 <= n <= 100\n",
        "\n",
        "## Output Format\n",
        "Print Weird if the number is weird; otherwise, print Not Weird.\n"
      ],
      "metadata": {
        "id": "5T5Z5xLO1Mo7"
      }
    },
    {
      "cell_type": "code",
      "execution_count": 1,
      "metadata": {
        "colab": {
          "base_uri": "https://localhost:8080/"
        },
        "id": "pPVMr9NVyARe",
        "outputId": "f9ce759d-20f5-47dc-ba4b-955f177a6286"
      },
      "outputs": [
        {
          "output_type": "stream",
          "name": "stdout",
          "text": [
            "Enter a positive integer: 29\n",
            "Weird\n"
          ]
        }
      ],
      "source": [
        "n = int(input(\"Enter a positive integer: \"))\n",
        "\n",
        "if n % 2 == 1:  # n is odd\n",
        "    print(\"Weird\")\n",
        "else:  # n is even\n",
        "    if 2 <= n <= 5:\n",
        "        print(\"Not Weird\")\n",
        "    elif 6 <= n <= 20:\n",
        "        print(\"Weird\")\n",
        "    else:\n",
        "        print(\"Not Weird\")\n"
      ]
    },
    {
      "cell_type": "code",
      "source": [],
      "metadata": {
        "id": "cWpEjV6K04XI"
      },
      "execution_count": null,
      "outputs": []
    }
  ]
}